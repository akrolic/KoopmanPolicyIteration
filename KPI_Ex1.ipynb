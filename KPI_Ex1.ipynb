{
  "nbformat": 4,
  "nbformat_minor": 0,
  "metadata": {
    "accelerator": "GPU",
    "colab": {
      "name": "KPI_VIPR.ipynb",
      "provenance": [],
      "machine_shape": "hm"
    },
    "kernelspec": {
      "display_name": "Python 3",
      "name": "python3"
    },
    "language_info": {
      "name": "python"
    }
  },
  "cells": [
    {
      "cell_type": "markdown",
      "metadata": {
        "id": "8SqUQZaRbYSN"
      },
      "source": [
        "Data driven KPI with DNN as basis and system model $K_{f,g,h}$ found using data"
      ]
    },
    {
      "cell_type": "code",
      "metadata": {
        "id": "CaPKPdKHKEe9"
      },
      "source": [
        "%%capture\n",
        "!pip install deeptime"
      ],
      "execution_count": null,
      "outputs": []
    },
    {
      "cell_type": "code",
      "metadata": {
        "id": "5PkW33FCJSws"
      },
      "source": [
        "import numpy as np\n",
        "import matplotlib.pyplot as plt\n",
        "import tensorflow as tf\n",
        "# import deeptime as dt\n",
        "# from scipy.integrate import odeint\n",
        "from tensorflow.keras.layers import Input, Dense, Conv2D, Activation, MaxPool2D\n",
        "from tensorflow.keras.layers import BatchNormalization, Flatten, Reshape, Conv2DTranspose, LeakyReLU\n",
        "from tensorflow.keras.models import Model\n",
        "from tensorflow.keras.optimizers import Adam, SGD\n",
        "from tensorflow.keras import regularizers"
      ],
      "execution_count": null,
      "outputs": []
    },
    {
      "cell_type": "code",
      "metadata": {
        "id": "BF5XAkGXwBhN"
      },
      "source": [
        "class DNN_AE(Model):\n",
        "    def __init__(self, input_dim, output_dim):\n",
        "        super(DNN_AE, self).__init__()\n",
        "        self.input_dim = input_dim\n",
        "        self.output_dim = output_dim\n",
        "        self.encoder = tf.keras.Sequential([\n",
        "            Input(shape=(input_dim), name=\"inputs\"),\n",
        "            # Dense(128, activation='relu', kernel_regularizer=regularizers.l2(0.0001)),\n",
        "            Dense(128, activation='tanh'),\n",
        "            Dense(128, activation='tanh'),\n",
        "            tf.keras.layers.Dropout(0.2),\n",
        "            Dense(output_dim, name=\"lifted_states\"),\n",
        "        ])\n",
        "        self.decoder = tf.keras.Sequential([\n",
        "            Input(shape=(output_dim), name=\"inputs\"),\n",
        "            tf.keras.layers.Dropout(0.2),\n",
        "            Dense(128, activation='tanh'),\n",
        "            Dense(128, activation='tanh'),\n",
        "            #  Dense(128, activation='relu', kernel_regularizer=regularizers.l2(0.0001)),\n",
        "            Dense(input_dim)\n",
        "        ])\n",
        "\n",
        "    def call(self,x):\n",
        "        encoded = self.encoder(x)\n",
        "        decoded = self.decoder(encoded)\n",
        "        return decoded"
      ],
      "execution_count": null,
      "outputs": []
    },
    {
      "cell_type": "code",
      "metadata": {
        "id": "tWuTGPrQJhh-"
      },
      "source": [
        "def state_derivative(x, u, w):\n",
        "\n",
        "    xdot = np.zeros(3)\n",
        "    xdot[0] = -1.01887*x[0] + 0.90506*x[1] - 0.00215*x[2] + w[0]\n",
        "    xdot[1] = 0.82225*x[0] - 1.07741*x[1] - 0.17555*x[2]\n",
        "    xdot[2] = -x[2] + u[0]\n",
        "\n",
        "    return xdot\n",
        "\n",
        "\n",
        "def control_law(x, x_lifted, R, G_x, gamma, H_x, LQR=True, V=0):\n",
        "    u = np.zeros(1)\n",
        "    w = np.zeros(1)\n",
        "\n",
        "    if LQR: \n",
        "        Klqr = np.array([-1.8489, -1.1386, 0.4037])\n",
        "        u[0] = -Klqr @ x\n",
        "        w[0] = 0\n",
        "    else:\n",
        "        u[0] = -0.5 * R * x_lifted.T @ G_x @ V\n",
        "        w[0] = (0.5 * gamma**2) * x_lifted.T @ H_x @ V\n",
        "\n",
        "    cost = - x.T @ x - R * u[0]**2 + (1/gamma**2) * w[0]**2\n",
        "\n",
        "    return u, w, cost\n",
        "\n",
        "\n",
        "def RK4(x, u, w, dt): \n",
        "    K1 = state_derivative(x, u, w)\n",
        "    K2 = state_derivative(x + K1 * dt / 2, u, w)\n",
        "    K3 = state_derivative(x + K2 * dt / 2, u, w)\n",
        "    K4 = state_derivative(x + K3 * dt, u, w)\n",
        "\n",
        "    x_next = x + 1/6 * (K1 + 2*K2 + 2*K3 + K4) * dt\n",
        "\n",
        "    return x_next\n",
        "\n",
        "\n",
        "def get_random_data(x_domain, u_domian, w_domain, samples, tstep, forced=True, adversary=True):\n",
        "\n",
        "    x_dataset = (x_domain[0] - x_domain[1]) * np.random.random_sample((3, samples)) + x_domain[1]\n",
        "    y_dataset = np.zeros((3, samples))\n",
        "\n",
        "    if forced:\n",
        "        u = (u_domain[0] - u_domain[1]) * np.random.random_sample((1, samples)) + u_domain[1]\n",
        "    else:\n",
        "        u = np.zeros((1,samples))\n",
        "\n",
        "    if adversary:\n",
        "        w = (w_domain[0] - w_domain[1]) * np.random.random_sample((1, samples)) + w_domain[1]\n",
        "    else:\n",
        "        w = np.zeros((1,samples))\n",
        "    for k in range(x_dataset.shape[0]):\n",
        "        # Predict state after one time step\n",
        "        y_dataset[:,k] = RK4(x_dataset[:,k], u[:,k], w[:,k], tstep)\n",
        "\n",
        "    return x_dataset, y_dataset\n",
        "\n",
        "def learn_basis(x_dataset, y_dataset, train_percent, lr, batch_size, epochs, epsilon):\n",
        "    N = x_dataset.shape[0]\n",
        "    M = x_dataset.shape[1]\n",
        "    input_dim = N\n",
        "    K = N\n",
        "    L1 = []\n",
        "    num_train = int(train_percent * M)\n",
        "    train_x = x_dataset[:, :num_train].T\n",
        "    train_y = y_dataset[:, :num_train].T\n",
        "    test_x = x_dataset[:, num_train:].T\n",
        "    test_y = y_dataset[:, num_train:].T\n",
        "\n",
        "    while True:\n",
        "        output_dim = K\n",
        "        print(\"~\"*25)\n",
        "        print(\"Lifted Dimension = \",K)\n",
        "        # Train Autoencoder for lifted labels\n",
        "        model_ = DNN_AE(input_dim, output_dim)\n",
        "        \n",
        "        lr_decay = tf.keras.optimizers.schedules.InverseTimeDecay(\n",
        "                    lr,\n",
        "                    decay_steps=1000,\n",
        "                    decay_rate=1,\n",
        "                    staircase=False)\n",
        "        \n",
        "        callback = tf.keras.callbacks.EarlyStopping(monitor='loss', patience=20)\n",
        "\n",
        "        model_.compile(optimizer=tf.keras.optimizers.Adam(learning_rate=lr_decay),\n",
        "                                    loss = 'mse',\n",
        "                                    metrics=['accuracy'])\n",
        "        # Takes about 7 minutes to train\n",
        "        history = model_.fit(\n",
        "            train_x,\n",
        "            train_x,\n",
        "            epochs=epochs,\n",
        "            batch_size=batch_size,\n",
        "            shuffle=False,\n",
        "            verbose=0,\n",
        "            validation_data = (test_x, test_x),\n",
        "            callbacks = callback\n",
        "            )\n",
        "        \n",
        "        plt.plot(history.history['loss'])\n",
        "        plt.plot(history.history['val_loss'])\n",
        "        plt.title('Autoencoder Loss')\n",
        "        plt.ylabel('loss')\n",
        "        plt.xlabel('epoch')\n",
        "        plt.legend(['train','test'], loc='upper right')\n",
        "        plt.show()\n",
        "\n",
        "        K_edmd, G, A, _ = EDMD(x_dataset, y_dataset, model_)\n",
        "\n",
        "        L1.append(np.linalg.norm(G @ K_edmd - A,'fro'))\n",
        "        print('Loss L1 = ', L1[-1]) \n",
        "\n",
        "        if L1[-1] <= epsilon:\n",
        "            print('done')\n",
        "            plt.plot(L1)\n",
        "            plt.title('Optimization Loss')\n",
        "            plt.ylabel('loss')\n",
        "            plt.xlabel('epoch')\n",
        "            plt.legend(['GK-A'], loc='upper right')\n",
        "            plt.show()\n",
        "            break\n",
        "\n",
        "        K = K + 1\n",
        "\n",
        "    return K_edmd, model_\n",
        "\n",
        "\n",
        "def EDMD(x, y, model_):\n",
        "\n",
        "    x_lifted = model_.encoder(x.T)\n",
        "    x_lifted = x_lifted.numpy().T\n",
        "    y_lifted = model_.encoder(y.T)\n",
        "    y_lifted = y_lifted.numpy().T\n",
        "    M = x_lifted.shape[0]\n",
        "    G = np.zeros((M,M))\n",
        "    A = np.zeros((M,M))\n",
        "\n",
        "    for i in range(M):\n",
        "        G = G + x_lifted[:,i] @ x_lifted[:,i].T\n",
        "        A = A + x_lifted[:,i] @ y_lifted[:,i].T\n",
        "    G = G/M\n",
        "    A = A/M \n",
        "\n",
        "    K = np.linalg.pinv(G) @ A\n",
        "    \n",
        "    return K, G, A, x_lifted\n",
        "\n",
        "\n",
        "def operator_approximation(x_domain, u_domain, w_domain, samples, tstep, train_percent, lr, batch_size, epochs, epsilon, R, gamma):\n",
        "    # control and adversary response u=1, w=1 dithered\n",
        "    x_K, y_K = get_random_data(x_domain, u_domain, w_domain, samples, tstep, forced=True, adversary=True)\n",
        "    K_cl, model_ = learn_basis(x_K, y_K, train_percent, lr, batch_size, epochs, epsilon)\n",
        "\n",
        "    # adversary response  u=0, w=1 dithered\n",
        "    x_K0, y_K0 = get_random_data(x_domain, u_domain, w_domain, samples, tstep, forced=False, adversary=True)\n",
        "    K0, _, _, _ = EDMD(x_K0, y_K0, model_)\n",
        "    # control response  u=1, w=0 dithered\n",
        "    x_K1, y_K1 = get_random_data(x_domain, u_domain, w_domain, samples, tstep, forced=True, adversary=False)\n",
        "    K1, _, _, _ = EDMD(x_K1, y_K1, model_)\n",
        "    # free response  u=0, w=0 dithered\n",
        "    x_K2, y_K2 = get_random_data(x_domain, u_domain, w_domain, samples, tstep, forced=False, adversary=False)\n",
        "    K2, _, _, _ = EDMD(x_K2, y_K2, model_)\n",
        "\n",
        "    #Control Operator\n",
        "    G_x = (K1-K0)/tstep\n",
        "    #Adversarial Operator\n",
        "    H_x = (K1-K2)/tstep\n",
        "\n",
        "    x_lqr, y_lqr, cost_lqr = get_closed_loop_data(x_domain, samples, tstep, model_, R, G_x, gamma, H_x, LQR=True, V=0)\n",
        "    K_init, _, _, x_lifted = EDMD(x_lqr, y_lqr, model_)\n",
        "    Psi_inv = np.linalg.pinv(x_lifted)\n",
        "    b = Psi_inv.T @ cost_lqr.T\n",
        "    L_init = (K_init - np.eye(x_lifted.shape[0])) / tstep\n",
        "    V_init = np.linalg.pinv(L_init) @ b\n",
        "\n",
        "    return V_init, G_x, H_x, model_\n",
        "\n",
        "\n",
        "def get_closed_loop_data(x_domain, samples, tstep, model_, R, G_x, gamma, H_x, LQR=True, V=0):\n",
        "\n",
        "    x_dataset = (x_domain[0] - x_domain[1]) * np.random.random_sample((3, samples)) + x_domain[1]\n",
        "    y_dataset = np.zeros((3, samples))\n",
        "    x_lifted = model_.encoder(x_dataset.T)\n",
        "    x_lifted = x_lifted.numpy().T\n",
        "    total_cost = []\n",
        "    if LQR:\n",
        "        for k in range(samples):\n",
        "            u, w, cost = control_law(x_dataset[:,k], x_lifted[:,k], R, G_x, gamma, H_x, LQR=True, V=0)\n",
        "            total_cost.append(cost)\n",
        "            # Predict state after one time step\n",
        "            y_dataset[:,k] = RK4(x_dataset[:,k], u, w, tstep)\n",
        "    else:\n",
        "        for k in range(samples):\n",
        "            u, w, cost = control_law(x_dataset[:,k], x_lifted[:,k], R, G_x, gamma, H_x, LQR, V)\n",
        "            total_cost.append(cost)\n",
        "            # Predict state after one time step\n",
        "            y_dataset[:,k] = RK4(x_dataset[:,k], u, w, tstep)\n",
        "    total_cost = np.asarray(total_cost)\n",
        "\n",
        "    return x_dataset, y_dataset, total_cost\n",
        "\n",
        "\n",
        "def get_sim_data(x_init, t, tstep, model_, R, G_x, gamma, H_x, V):\n",
        "    samples = np.size(t)\n",
        "    x_dataset = np.zeros((3, samples))\n",
        "    y_dataset = np.zeros((3, samples))\n",
        "    x_dataset[:,0] = x_init\n",
        "    total_cost = []\n",
        "    LQR = False\n",
        "\n",
        "    for k in range(samples-1):\n",
        "        x_lifted = model_.encoder(x_dataset.T)\n",
        "        x_lifted = x_lifted.numpy().T\n",
        "        u, w, cost = control_law(x_dataset[:,k], x_lifted[:,k], R, G_x, gamma, H_x, LQR, V)\n",
        "        total_cost.append(cost)\n",
        "        # Predict state after one time step\n",
        "        y_dataset[:,k] = RK4(x_dataset[:,k], u, w, tstep)\n",
        "        x_dataset[:,k+1] = y_dataset[:,k]\n",
        "    total_cost = np.asarray(total_cost)\n",
        "\n",
        "    return x_dataset, y_dataset, total_cost\n",
        "\n",
        "\n",
        "def value_iteration(V_init, G_x, H_x, R, gamma, model_, nbr_V, x_domain, samples, tstep):\n",
        "\n",
        "    V = V_init\n",
        "\n",
        "    for i in range(nbr_V):\n",
        "        x_dataset, y_dataset, total_cost = get_closed_loop_data(x_domain, samples, tstep, model_, R, G_x, gamma, H_x, LQR=False, V=V)\n",
        "        K_cl, _, _, x_lifted = EDMD(x_dataset, y_dataset, model_)\n",
        "        Psi_inv = np.linalg.pinv(x_lifted)\n",
        "        b = Psi_inv.T @ total_cost.T\n",
        "        L_init = (K_cl - np.eye(x_lifted.shape[0])) / tstep\n",
        "        V = np.linalg.pinv(L_init) @ b\n",
        "    \n",
        "    return V\n",
        "\n"
      ],
      "execution_count": null,
      "outputs": []
    },
    {
      "cell_type": "code",
      "metadata": {
        "colab": {
          "base_uri": "https://localhost:8080/",
          "height": 640
        },
        "id": "1yyFUPmtFAhj",
        "outputId": "afa34aa0-129d-44aa-b61c-2f1a2323e195"
      },
      "source": [
        "x_init = np.array([4.0, 4.0, 4.0]).T\n",
        "x_domain = [-5,5]\n",
        "u_domain = [-1,1]\n",
        "w_domain = [-1,1]\n",
        "samples = int(1e4)\n",
        "tstep = 0.01\n",
        "simulation_time = 30\n",
        "t = np.arange(0,simulation_time,tstep)\n",
        "lr = 1e-3\n",
        "batch_size = 32\n",
        "epochs = 50\n",
        "epsilon = 1e-5\n",
        "train_percent = 0.8\n",
        "nbr_V = 15\n",
        "R = 1\n",
        "gamma = 1\n",
        "#initial admissible control and operator identification\n",
        "V_init, G_x, H_x, model_ = operator_approximation(x_domain, u_domain, w_domain, samples, tstep, train_percent, lr, batch_size, epochs, epsilon, R, gamma)\n",
        "#value iteration\n",
        "V = value_iteration(V_init, G_x, H_x, R, gamma, model_, nbr_V, x_domain, samples, tstep)\n",
        "#simulate system\n",
        "x_sim, y_sim, cost = get_sim_data(x_init, t, tstep, model_, R, G_x, gamma, H_x, V)\n"
      ],
      "execution_count": null,
      "outputs": [
        {
          "output_type": "stream",
          "name": "stdout",
          "text": [
            "~~~~~~~~~~~~~~~~~~~~~~~~~\n",
            "Lifted Dimension =  3\n"
          ]
        },
        {
          "output_type": "display_data",
          "data": {
            "image/png": "[encoded data removed]",
            "text/plain": [
              "<Figure size 432x288 with 1 Axes>"
            ]
          },
          "metadata": {
            "needs_background": "light"
          }
        },
        {
          "output_type": "stream",
          "name": "stdout",
          "text": [
            "Loss L1 =  5.329070518200751e-15\n",
            "done\n"
          ]
        },
        {
          "output_type": "display_data",
          "data": {
            "image/png": "[encoded data removed]",
            "text/plain": [
              "<Figure size 432x288 with 1 Axes>"
            ]
          },
          "metadata": {
            "needs_background": "light"
          }
        }
      ]
    },
    {
      "cell_type": "code",
      "metadata": {
        "colab": {
          "base_uri": "https://localhost:8080/",
          "height": 312
        },
        "id": "nc5qDi4LemWW",
        "outputId": "74faff38-da86-4a96-b56f-49a5db5c8db8"
      },
      "source": [
        "plt.plot(t, x_sim[0,:])\n",
        "plt.plot(t, x_sim[1,:])\n",
        "plt.plot(t, x_sim[2,:])\n",
        "plt.title('Closed Loop State Trajectories')\n",
        "plt.ylabel('x')\n",
        "plt.xlabel('time')\n",
        "plt.legend(['x1','x2', 'x3'], loc='upper right')"
      ],
      "execution_count": null,
      "outputs": [
        {
          "output_type": "execute_result",
          "data": {
            "text/plain": [
              "<matplotlib.legend.Legend at 0x7f3be69949d0>"
            ]
          },
          "metadata": {},
          "execution_count": 7
        },
        {
          "output_type": "display_data",
          "data": {
            "image/png": "[encoded data removed]",
            "text/plain": [
              "<Figure size 432x288 with 1 Axes>"
            ]
          },
          "metadata": {
            "needs_background": "light"
          }
        }
      ]
    },
    {
      "cell_type": "code",
      "metadata": {
        "colab": {
          "base_uri": "https://localhost:8080/",
          "height": 312
        },
        "id": "HxfBkxZ7Z5n5",
        "outputId": "eec6d402-bf7f-488f-bb25-2c6c3cac3fb0"
      },
      "source": [
        "plt.plot(t[:-1], cost)\n",
        "plt.title('Closed Loop Cost')\n",
        "plt.ylabel('cost')\n",
        "plt.xlabel('time')"
      ],
      "execution_count": null,
      "outputs": [
        {
          "output_type": "execute_result",
          "data": {
            "text/plain": [
              "Text(0.5, 0, 'time')"
            ]
          },
          "metadata": {},
          "execution_count": 9
        },
        {
          "output_type": "display_data",
          "data": {
            "image/png": "[encoded data removed]",
            "text/plain": [
              "<Figure size 432x288 with 1 Axes>"
            ]
          },
          "metadata": {
            "needs_background": "light"
          }
        }
      ]
    }
  ]
}